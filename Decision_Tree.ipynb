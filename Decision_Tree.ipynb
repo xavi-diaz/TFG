{
 "cells": [
  {
   "cell_type": "markdown",
   "id": "9eb4d120-b424-477b-8498-984e9102ab86",
   "metadata": {
    "id": "9eb4d120-b424-477b-8498-984e9102ab86"
   },
   "source": [
    "# Árbol de decisiones"
   ]
  },
  {
   "cell_type": "markdown",
   "id": "4f581181-c546-44db-8ff6-12891cec591b",
   "metadata": {
    "id": "4f581181-c546-44db-8ff6-12891cec591b"
   },
   "source": [
    "*importaciones*"
   ]
  },
  {
   "cell_type": "code",
   "execution_count": 4,
   "id": "c9a70d88-ed93-40da-aa80-0cb93408004b",
   "metadata": {
    "id": "c9a70d88-ed93-40da-aa80-0cb93408004b"
   },
   "outputs": [],
   "source": [
    "import pandas as pd\n",
    "from sklearn import tree\n",
    "from sklearn.tree import DecisionTreeRegressor\n",
    "from sklearn.metrics import mean_absolute_error \n",
    "from sklearn.tree import export_graphviz \n",
    "import json"
   ]
  },
  {
   "cell_type": "markdown",
   "id": "7d4cc62d-a6c5-48fb-bc8a-df830652e08c",
   "metadata": {
    "id": "7d4cc62d-a6c5-48fb-bc8a-df830652e08c"
   },
   "source": [
    "En este caso, como se usará el Decisión Tree de manera ilustrativa y para explicar el xgb, no se hace predicción ni evaluación del árbol"
   ]
  },
  {
   "cell_type": "code",
   "execution_count": 5,
   "id": "2d1cdf3d-1bcc-432c-9666-684993274bbc",
   "metadata": {
    "id": "2d1cdf3d-1bcc-432c-9666-684993274bbc"
   },
   "outputs": [],
   "source": [
    "df = pd.read_csv('scaled_df.csv')\n",
    "with open(\"feature_names.json\", \"r\") as f:\n",
    "    feature_names_dict = json.load(f)\n",
    "#Selección de variables; Chemfluor FSD para soluto y CGSD Para disolvente. \n",
    "solvent_to_feat_dic = {'minnesota_descriptors': 'minnesota', \n",
    "                'morgan_fingerprint': 'sfp',\n",
    "                'chemfluor': 'cgsd'}\n",
    "solvent_features_name = solvent_to_feat_dic['chemfluor']\n",
    "features = feature_names_dict['ecdkex'] + feature_names_dict[solvent_features_name]\n",
    "target = 'peakwavs_max'\n",
    "\n",
    "\n",
    "# Create Decision Tree classifer object\n",
    "decision_tree = DecisionTreeRegressor(max_depth = 3)\n",
    "\n",
    "\n",
    "# Dividir en conjunto de entrenamiento y prueba\n",
    "x = df[features]\n",
    "y = df[target]\n",
    "\n",
    "# entrenamiento\n",
    "decision_tree = decision_tree.fit(x, y)\n",
    "\n",
    "# Exportar el árbol en formato DOT\n",
    "file_name = 'tree_depth3.dot'\n",
    "export_graphviz(decision_tree,\n",
    "                out_file=file_name,\n",
    "                feature_names=features,\n",
    "                filled=True,\n",
    "                rounded=True,\n",
    "                special_characters=True)\n"
   ]
  },
  {
   "cell_type": "code",
   "execution_count": null,
   "id": "a4a3dbc1-2cf9-41a3-a8d6-774c65ecb1e3",
   "metadata": {},
   "outputs": [],
   "source": []
  }
 ],
 "metadata": {
  "accelerator": "TPU",
  "colab": {
   "gpuType": "V28",
   "provenance": []
  },
  "kernelspec": {
   "display_name": "Python 3 (ipykernel)",
   "language": "python",
   "name": "python3"
  },
  "language_info": {
   "codemirror_mode": {
    "name": "ipython",
    "version": 3
   },
   "file_extension": ".py",
   "mimetype": "text/x-python",
   "name": "python",
   "nbconvert_exporter": "python",
   "pygments_lexer": "ipython3",
   "version": "3.12.3"
  }
 },
 "nbformat": 4,
 "nbformat_minor": 5
}
