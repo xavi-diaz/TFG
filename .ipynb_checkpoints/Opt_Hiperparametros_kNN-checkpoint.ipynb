{
 "cells": [
  {
   "cell_type": "markdown",
   "id": "4e4639c6",
   "metadata": {},
   "source": [
    "# Optimización hiperparámetros k-NN"
   ]
  },
  {
   "cell_type": "code",
   "execution_count": 1,
   "id": "0fad5295",
   "metadata": {},
   "outputs": [],
   "source": [
    "from sklearn.neighbors import KNeighborsRegressor\n",
    "from sklearn.metrics import mean_absolute_error\n",
    "from sklearn.model_selection import RandomizedSearchCV, train_test_split\n",
    "from sklearn.datasets import load_breast_cancer\n",
    "from sklearn.metrics import accuracy_score\n",
    "import pandas as pd\n",
    "import numpy  as np"
   ]
  },
  {
   "cell_type": "code",
   "execution_count": 2,
   "id": "7c36cbad",
   "metadata": {},
   "outputs": [],
   "source": [
    "mi_dir = '/home/xavi/Escritorio/midirectorio/'\n",
    "\n",
    "# Identificar características y variable objetivo\n",
    "df = pd.read_csv(f'{mi_dir}DATA/train_scaffold.csv')\n",
    "sub_train = df.sample(frac =0.3, random_state=42)\n",
    "\n",
    "target = 'peakwavs_max'\n",
    "features = [col for col in df.columns if col not in ['smiles', 'solvent', 'source', 'scaffold', target]]\n",
    "\n",
    "# Dividir en conjunto de entrenamiento y prueba\n",
    "x = sub_train[features]\n",
    "y = sub_train[target]\n",
    "x_train, x_test, y_train, y_test = train_test_split(x, y, test_size=0.2, random_state=30)\n"
   ]
  },
  {
   "cell_type": "code",
   "execution_count": 5,
   "id": "c408b6db",
   "metadata": {},
   "outputs": [
    {
     "name": "stdout",
     "output_type": "stream",
     "text": [
      "Buscando mejores hipeparámetros... \n",
      " \n",
      "Fitting 3 folds for each of 30 candidates, totalling 90 fits\n"
     ]
    },
    {
     "name": "stderr",
     "output_type": "stream",
     "text": [
      "[Parallel(n_jobs=-1)]: Using backend LokyBackend with 8 concurrent workers.\n",
      "[Parallel(n_jobs=-1)]: Done   2 tasks      | elapsed:  1.1min\n",
      "[Parallel(n_jobs=-1)]: Done   9 tasks      | elapsed:  4.0min\n",
      "[Parallel(n_jobs=-1)]: Done  16 tasks      | elapsed:  5.5min\n",
      "[Parallel(n_jobs=-1)]: Done  25 tasks      | elapsed:  7.5min\n",
      "[Parallel(n_jobs=-1)]: Done  34 tasks      | elapsed:  8.7min\n",
      "[Parallel(n_jobs=-1)]: Done  45 tasks      | elapsed: 14.9min\n",
      "[Parallel(n_jobs=-1)]: Done  56 tasks      | elapsed: 26.4min\n",
      "[Parallel(n_jobs=-1)]: Done  69 tasks      | elapsed: 29.4min\n",
      "[Parallel(n_jobs=-1)]: Done  85 out of  90 | elapsed: 35.3min remaining:  2.1min\n",
      "[Parallel(n_jobs=-1)]: Done  90 out of  90 | elapsed: 36.3min finished\n"
     ]
    },
    {
     "name": "stdout",
     "output_type": "stream",
     "text": [
      "Mejores hiperparámetros encontrados:\n",
      "{'weights': 'distance', 'p': 1, 'n_neighbors': 3, 'leaf_size': 30, 'algorithm': 'ball_tree'}\n",
      "Error Absoluto Medio (MAE) en el conjunto de prueba: 22.9680\n"
     ]
    }
   ],
   "source": [
    "# Definir el espacio de búsqueda de hiperparámetros\n",
    "param_dist = {\n",
    "    'n_neighbors' : [3, 4, 5],\n",
    "    'weights' : ['uniform', 'distance'],\n",
    "    'algorithm' : ['ball_tree', 'kd_tree', 'brute'],\n",
    "    'leaf_size' : [20, 30, 40],\n",
    "    'p' : [1, 1.3, 1.5, 2]\n",
    "}\n",
    "\n",
    "# Configurar Randomized Search\n",
    "knn = KNeighborsRegressor()\n",
    "random_search = RandomizedSearchCV(\n",
    "    knn, \n",
    "    param_distributions=param_dist, \n",
    "    n_iter=30,  # Número de combinaciones aleatorias a probar\n",
    "    cv=3, \n",
    "    scoring='neg_mean_absolute_error', \n",
    "    n_jobs=-1, \n",
    "    verbose=10, \n",
    "    random_state=42,  # Para reproducibilidad\n",
    "    return_train_score=False\n",
    ")\n",
    "\n",
    "\n",
    "# Entrenar el modelo con Grid Search\n",
    "print(f\"Buscando mejores hipeparámetros... \\n \")\n",
    "random_search.fit(x_train, y_train)\n",
    "\n",
    "#  Mostrar los mejores hiperparámetros encontrados\n",
    "print(\"Mejores hiperparámetros encontrados:\")\n",
    "print(random_search.best_params_)\n",
    "\n",
    "# Evaluar el modelo con los mejores hiperparámetros\n",
    "best_model = random_search.best_estimator_\n",
    "y_pred = best_model.predict(x_test)\n",
    "mae = mean_absolute_error(y_test, y_pred)\n",
    "print(f\"Error Absoluto Medio (MAE) en el conjunto de prueba: {mae:.4f}\")"
   ]
  }
 ],
 "metadata": {
  "kernelspec": {
   "display_name": "Python [conda env:environment] *",
   "language": "python",
   "name": "conda-env-environment-py"
  },
  "language_info": {
   "codemirror_mode": {
    "name": "ipython",
    "version": 3
   },
   "file_extension": ".py",
   "mimetype": "text/x-python",
   "name": "python",
   "nbconvert_exporter": "python",
   "pygments_lexer": "ipython3",
   "version": "3.7.10"
  }
 },
 "nbformat": 4,
 "nbformat_minor": 5
}
