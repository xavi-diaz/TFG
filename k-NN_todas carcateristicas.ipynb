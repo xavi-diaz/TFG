{
 "cells": [
  {
   "cell_type": "markdown",
   "id": "5a5d355a-6a37-460c-9a39-e41304df4a03",
   "metadata": {},
   "source": [
    "# Vecinos más cercanos o k-NN"
   ]
  },
  {
   "cell_type": "code",
   "execution_count": 3,
   "id": "3b733a45-bcdb-4658-b74e-45ecd7185290",
   "metadata": {},
   "outputs": [],
   "source": [
    "import pandas as pd \n",
    "import numpy as np \n",
    "\n",
    "import matplotlib.pyplot as plt\n",
    "import seaborn as sns\n",
    "\n",
    "from sklearn.preprocessing import StandardScaler, LabelEncoder\n",
    "from sklearn.model_selection import train_test_split, cross_val_score\n",
    "from sklearn.neighbors import KNeighborsRegressor\n",
    "from sklearn.metrics import mean_absolute_error"
   ]
  },
  {
   "cell_type": "markdown",
   "id": "0d780310",
   "metadata": {},
   "source": [
    "#### SOBRE NOMENCLATURA DE VARIABLES\n",
    "\n",
    "Al final del nombre se indica si una variable proviene de un random split: '_r' o de un scaffold split: '_s'"
   ]
  },
  {
   "cell_type": "markdown",
   "id": "99e31951",
   "metadata": {},
   "source": [
    "## **Usando un split random**"
   ]
  },
  {
   "cell_type": "markdown",
   "id": "27ed707f-e966-411f-8e54-1dbbfcb471e5",
   "metadata": {},
   "source": [
    "### Validación cruzada todo"
   ]
  },
  {
   "cell_type": "code",
   "execution_count": 3,
   "id": "c6fad396-5143-4589-8533-76a6c955e728",
   "metadata": {},
   "outputs": [
    {
     "name": "stdout",
     "output_type": "stream",
     "text": [
      "[-29.7569113  -36.54047008 -27.40794643 -26.54648529 -21.0019733 ]\n"
     ]
    }
   ],
   "source": [
    "df = pd.read_csv('scaled_df.csv')\n",
    "\n",
    "#identificar las variables y división de datos\n",
    "target = 'peakwavs_max'\n",
    "features = [col for col in df.columns if col not in ['smiles', 'solvent', 'source', target]]\n",
    "\n",
    "x_r = df[features]\n",
    "y_r = df[target]\n",
    "\n",
    "knn = KNeighborsRegressor(n_neighbors=3, \n",
    "                          weights='distance', \n",
    "                          algorithm='ball_tree', \n",
    "                          leaf_size=30, \n",
    "                          p=1, \n",
    "                          metric='minkowski')\n",
    "\n",
    "print(cross_val_score(knn, x_r, y_r, cv=5, scoring='neg_mean_absolute_error' ))"
   ]
  },
  {
   "cell_type": "markdown",
   "id": "bc723b78-85b7-42a9-934b-91eadd8a75d0",
   "metadata": {},
   "source": [
    "### Validación final \n",
    "    con los hiperparametros obtenidos mediante optimización"
   ]
  },
  {
   "cell_type": "code",
   "execution_count": 7,
   "id": "8fdeb57b-b808-4a2b-a41e-fcba67c4dc5b",
   "metadata": {},
   "outputs": [],
   "source": [
    "df = pd.read_csv('scaled_df.csv')\n",
    "\n",
    "# Identificar características y variable objetivo\n",
    "target = 'peakwavs_max'\n",
    "features = [col for col in df.columns if col not in ['smiles', 'solvent', 'source', target]]\n",
    "\n",
    "# Dividir en conjunto de entrenamiento y prueba\n",
    "x = df[features]\n",
    "y = df[target]\n",
    "x_train_r, x_test_r, y_train_r, y_test_r = train_test_split(x, y, test_size=0.2, random_state=42)\n",
    "\n",
    "# contruir el árbol\n",
    "knn = KNeighborsRegressor(n_neighbors=3, \n",
    "                          weights='distance', \n",
    "                          algorithm='ball_tree', \n",
    "                          leaf_size=30, \n",
    "                          p=1, \n",
    "                          metric='minkowski')\n",
    "knn.fit(x_train_r, y_train_r)\n",
    "\n",
    "# Hacer predicciones\n",
    "y_pred_r = knn.predict(x_test_r)\n",
    "\n",
    "## GUARDAR RESULTADOS\n",
    "y_test_r = np.array(y_test_r).flatten()\n",
    "y_pred_r = np.array(y_pred_r).flatten()\n",
    "\n",
    "resultados_knn_rand = pd.DataFrame({\n",
    "    \"peakwavs_max_real\": y_test_r,\n",
    "    \"peakwavs_max_predicho\": y_pred_r\n",
    "})\n",
    "\n",
    "### Cálculo de error y visualización \n",
    "mae = mean_absolute_error(y_test_r, y_pred_r)\n",
    "print(f'Error absoluto medio: {mae:.3f}')\n",
    "\n",
    "resultados_knn_rand.to_csv('Resultados/knn/random split/knn_rand.csv', index=False)"
   ]
  },
  {
   "cell_type": "markdown",
   "id": "042497a7",
   "metadata": {},
   "source": [
    "## **Usando el split por scaffold**"
   ]
  },
  {
   "cell_type": "markdown",
   "id": "2baacfd8-4838-4b67-93a4-d71ea9041c35",
   "metadata": {},
   "source": [
    "### Validación cruzada"
   ]
  },
  {
   "cell_type": "code",
   "execution_count": 11,
   "id": "fcc2d752-7d8f-4f21-ae94-8486345a8566",
   "metadata": {},
   "outputs": [
    {
     "name": "stdout",
     "output_type": "stream",
     "text": [
      "Error absoluto medio de cada fold: [35.6460668444029, 36.785608278354225, 35.62873945507117, 35.074697560802214, 34.32038363419368]\n",
      "Error medio de todos los folds:  35.49109915456484\n"
     ]
    }
   ],
   "source": [
    "archivos_train = ['train_1.csv', 'train_2.csv', 'train_3.csv', 'train_4.csv', 'train_5.csv']\n",
    "archivos_test = ['test_1.csv', 'test_2.csv', 'test_3.csv', 'test_4.csv', 'test_5.csv']\n",
    "\n",
    "resultados= []\n",
    "\n",
    "for archivo_train, archivo_test in zip(archivos_train, archivos_test):\n",
    "  \n",
    "    train_cv = pd.read_csv(f'CV/{archivo_train}')\n",
    "    test_cv = pd.read_csv(f'CV/{archivo_test}')\n",
    "    target = 'peakwavs_max'\n",
    "    features = [col for col in train_cv.columns if col not in ['smiles', 'solvent', 'source', target]]\n",
    "    \n",
    "    x_train = train_cv[features]\n",
    "    y_train = train_cv[target]\n",
    "    x_test = test_cv[features]\n",
    "    y_test = test_cv[target]\n",
    "    \n",
    "    knn = KNeighborsRegressor(n_neighbors=3, \n",
    "                          weights='distance', \n",
    "                          algorithm='ball_tree', \n",
    "                          leaf_size=30, \n",
    "                          p=1, \n",
    "                          metric='minkowski')\n",
    "    knn.fit(x_train, y_train)\n",
    "    y_pred = knn.predict(x_test)\n",
    "\n",
    "    resultados.append(mean_absolute_error(y_test, y_pred))\n",
    "    \n",
    "print(f'Error absoluto medio de cada fold: {resultados}')\n",
    "print('Error medio de todos los folds: ', np.mean(resultados))"
   ]
  },
  {
   "cell_type": "markdown",
   "id": "cb7c43c1-bb74-4feb-a611-1f835c306e3b",
   "metadata": {},
   "source": [
    "### Validación final\n",
    "con los hiperparámetros obtenidos en la optimización."
   ]
  },
  {
   "cell_type": "code",
   "execution_count": 7,
   "id": "349ab26f",
   "metadata": {},
   "outputs": [
    {
     "name": "stdout",
     "output_type": "stream",
     "text": [
      "Error absoluto medio: 35.646\n"
     ]
    },
    {
     "ename": "NameError",
     "evalue": "name 'resultados_knn_scaffold' is not defined",
     "output_type": "error",
     "traceback": [
      "\u001b[0;31m---------------------------------------------------------------------------\u001b[0m",
      "\u001b[0;31mNameError\u001b[0m                                 Traceback (most recent call last)",
      "\u001b[0;32m<ipython-input-7-8797b4f27895>\u001b[0m in \u001b[0;36m<module>\u001b[0;34m\u001b[0m\n\u001b[1;32m     37\u001b[0m \u001b[0mmae\u001b[0m \u001b[0;34m=\u001b[0m \u001b[0mmean_absolute_error\u001b[0m\u001b[0;34m(\u001b[0m\u001b[0my_test_s\u001b[0m\u001b[0;34m,\u001b[0m \u001b[0my_pred_s\u001b[0m\u001b[0;34m)\u001b[0m\u001b[0;34m\u001b[0m\u001b[0;34m\u001b[0m\u001b[0m\n\u001b[1;32m     38\u001b[0m \u001b[0mprint\u001b[0m\u001b[0;34m(\u001b[0m\u001b[0;34mf'Error absoluto medio: {mae:.3f}'\u001b[0m\u001b[0;34m)\u001b[0m\u001b[0;34m\u001b[0m\u001b[0;34m\u001b[0m\u001b[0m\n\u001b[0;32m---> 39\u001b[0;31m \u001b[0mresultados_knn_scaffold\u001b[0m\u001b[0;34m.\u001b[0m\u001b[0mto_csv\u001b[0m\u001b[0;34m(\u001b[0m\u001b[0;34m'Resultados/knn/scaffold split/knn_scaffold.csv'\u001b[0m\u001b[0;34m,\u001b[0m \u001b[0mindex\u001b[0m\u001b[0;34m=\u001b[0m\u001b[0;32mFalse\u001b[0m\u001b[0;34m)\u001b[0m\u001b[0;34m\u001b[0m\u001b[0;34m\u001b[0m\u001b[0m\n\u001b[0m",
      "\u001b[0;31mNameError\u001b[0m: name 'resultados_knn_scaffold' is not defined"
     ]
    }
   ],
   "source": [
    "mi_dir = '/home/xavi/Escritorio/midirectorio/'\n",
    "\n",
    "# Identificar características y variable objetivo\n",
    "train = pd.read_csv(f'{mi_dir}CV/train_1.csv')\n",
    "test = pd.read_csv(f'{mi_dir}CV/test_1.csv')\n",
    "target = 'peakwavs_max'\n",
    "features = [col for col in train.columns if col not in ['smiles', 'solvent', 'source', target]]\n",
    "\n",
    "# Dividir en conjunto de entrenamiento y prueba\n",
    "x_train_s = train[features]\n",
    "y_train_s = train[target]\n",
    "\n",
    "x_test_s = test[features]\n",
    "y_test_s = test[target]\n",
    "# contruir el árbol\n",
    "knn = KNeighborsRegressor(n_neighbors=3, \n",
    "                          weights='distance', \n",
    "                          algorithm='ball_tree', \n",
    "                          leaf_size=30, \n",
    "                          p=1, \n",
    "                          metric='minkowski')\n",
    "knn.fit(x_train_s, y_train_s)\n",
    "\n",
    "\n",
    "y_pred_s = knn.predict(x_test_s)\n",
    "\n",
    "## GUARDAR RESULTADOS\n",
    "y_test_s = np.array(y_test_s).flatten()\n",
    "y_pred_s = np.array(y_pred_s).flatten()\n",
    "\n",
    "resultados_knn_scaffol1d = pd.DataFrame({\n",
    "    \"peakwavs_max_real\": y_test_s,\n",
    "    \"peakwavs_max_predicho\": y_pred_s\n",
    "})\n",
    "resultados_knn_scaffold.to_csv('Resultados/knn/scaffold split/knn_scaffold.csv', index=False)\n",
    "\n",
    "#Cálculo de error y visualización \n",
    "mae = mean_absolute_error(y_test_s, y_pred_s)\n",
    "print(f'Error absoluto medio: {mae:.3f}')\n"
   ]
  }
 ],
 "metadata": {
  "kernelspec": {
   "display_name": "Python [conda env:environment]",
   "language": "python",
   "name": "conda-env-environment-py"
  },
  "language_info": {
   "codemirror_mode": {
    "name": "ipython",
    "version": 3
   },
   "file_extension": ".py",
   "mimetype": "text/x-python",
   "name": "python",
   "nbconvert_exporter": "python",
   "pygments_lexer": "ipython3",
   "version": "3.7.10"
  }
 },
 "nbformat": 4,
 "nbformat_minor": 5
}
