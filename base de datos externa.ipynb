{
 "cells": [
  {
   "cell_type": "code",
   "execution_count": 1,
   "id": "b5146c75-d5bf-43dd-8011-eef0d1b386fc",
   "metadata": {},
   "outputs": [],
   "source": [
    "import requests\n",
    "import pandas as pd\n",
    "import numpy as np\n",
    "from rdkit import Chem\n",
    "from rdkit.Chem import Draw\n",
    "import pubchempy as pcp\n",
    "from bs4 import BeautifulSoup\n",
    "import csv\n",
    "import urllib3\n",
    "from sklearn.preprocessing import StandardScaler\n",
    "\n",
    "from utils import get_morgan_fingerprints, get_padel_descriptors\n",
    "\n",
    "def name_to_smiles(name):\n",
    "    # Intentar con la API de Cactus\n",
    "    url = f\"https://cactus.nci.nih.gov/chemical/structure/{name}/smiles\"\n",
    "    try:\n",
    "        response = requests.get(url, timeout=5)\n",
    "        if response.status_code == 200:\n",
    "            return response.text.strip()\n",
    "    except:\n",
    "        pass\n",
    "\n",
    "    # Intentar con PubChemPy\n",
    "    try:\n",
    "        compounds = pcp.get_compounds(name, 'name')\n",
    "        if compounds:\n",
    "            return compounds[0].canonical_smiles\n",
    "    except:\n",
    "        pass\n",
    "\n",
    "    return None\n"
   ]
  },
  {
   "cell_type": "code",
   "execution_count": 4,
   "id": "e5b36cc4-b4b9-4dd9-b699-770d59f7559f",
   "metadata": {},
   "outputs": [
    {
     "name": "stdout",
     "output_type": "stream",
     "text": [
      "Datos guardados en 'fluorophores_data.csv'\n"
     ]
    }
   ],
   "source": [
    "urllib3.disable_warnings(urllib3.exceptions.InsecureRequestWarning)\n",
    "\n",
    "# URL de la base de datos\n",
    "url = \"https://www.fluorophores.tugraz.at/substance/\"\n",
    "\n",
    "# Descargar el contenido HTML\n",
    "response = requests.get(url, verify=False)\n",
    "soup = BeautifulSoup(response.text, \"html.parser\")\n",
    "\n",
    "# Buscar la tabla (puede que haya que ajustar el selector)\n",
    "table = soup.find(\"table\")\n",
    "\n",
    "# Extraer los encabezados\n",
    "headers = [th.text.strip() for th in table.find_all(\"th\")]\n",
    "\n",
    "# Extraer los datos de las filas\n",
    "rows = []\n",
    "for tr in table.find_all(\"tr\")[1:]:\n",
    "    cols = [td.text.strip() for td in tr.find_all(\"td\")]\n",
    "    if cols:\n",
    "        rows.append(cols)\n",
    "\n",
    "# Guardar en un archivo CSV\n",
    "with open(\"fluorophores_data.csv\", \"w\", newline=\"\", encoding=\"utf-8\") as f:\n",
    "    writer = csv.writer(f)\n",
    "    writer.writerow(headers)\n",
    "    writer.writerows(rows)\n",
    "\n",
    "print(\"Datos guardados en 'fluorophores_data.csv'\")\n"
   ]
  },
  {
   "cell_type": "code",
   "execution_count": 13,
   "id": "211eeeaa-d660-4ed6-b01d-90687509987d",
   "metadata": {},
   "outputs": [
    {
     "name": "stdout",
     "output_type": "stream",
     "text": [
      "                              Substance name   Solvent   pH  \\\n",
      "0                                   Qdot 705       NaN  7.2   \n",
      "1                    SYBR Safe DNA gel stain       NaN  NaN   \n",
      "2                      (CS)2Ir(µ-Cl)2Ir(CS)2     CHCl3  NaN   \n",
      "3    1,1  -Diethyl-4,4  -carbocyanine iodide  Methanol  NaN   \n",
      "4                      1,2-Diphenylacetylene      EtOH  NaN   \n",
      "..                                       ...       ...  ...   \n",
      "950                      Zinc Phthalocyanine  pyridine  NaN   \n",
      "951               Zinc Tetramesitylporphyrin   toluene  NaN   \n",
      "952                Zinc Tetraphenylporphyrin   toluene  NaN   \n",
      "953                                 ZsGreen1       NaN  NaN   \n",
      "954                                ZsYellow1       NaN  NaN   \n",
      "\n",
      "    Excitation max (nm) Emission max (nm)  \\\n",
      "0                   300               702   \n",
      "1              509, 284               526   \n",
      "2                   NaN               587   \n",
      "3              707, 651               728   \n",
      "4         373, 354, 338          425, 404   \n",
      "..                  ...               ...   \n",
      "950            674, 608          751, 678   \n",
      "951                 421          643, 595   \n",
      "952                 423          645, 595   \n",
      "953                 505               515   \n",
      "954                 540               550   \n",
      "\n",
      "                                      substance_smiles solvent_smiles  \n",
      "0                                                 None           None  \n",
      "1                                                 None           None  \n",
      "2                                                 None    C(Cl)(Cl)Cl  \n",
      "3                                                 None             CO  \n",
      "4                                c1ccc(cc1)C#Cc2ccccc2            CCO  \n",
      "..                                                 ...            ...  \n",
      "950  C1=CC=C2C(=C1)C3=NC4=NC(=NC5=C6C=CC=CC6=C([N-]...           None  \n",
      "951  CC1=CC(=C(C(=C1)C)C2=C3C=CC(=C(C4=NC(=C(C5=CC=...           None  \n",
      "952  C1=CC=C(C=C1)C2=C3C=CC(=C(C4=NC(=C(C5=CC=C([N-...           None  \n",
      "953                                               None           None  \n",
      "954                                               None           None  \n",
      "\n",
      "[955 rows x 7 columns]\n"
     ]
    }
   ],
   "source": [
    "df = pd.read_csv('fluorophores_data.csv')\n",
    "\n",
    "\n",
    "# Convertir ambas columnas a SMILES\n",
    "df[\"substance_smiles\"] = df[\"Substance name\"].apply(name_to_smiles)\n",
    "df[\"solvent_smiles\"] = df[\"Solvent\"].apply(name_to_smiles)\n",
    "\n",
    "df.to_csv('base_datos_externa.csv', index = False)\n",
    "\n",
    "print(df) "
   ]
  },
  {
   "cell_type": "markdown",
   "id": "b8f2f021-10eb-4f70-b320-641506c73bed",
   "metadata": {},
   "source": [
    "Se ha hecho una limpieza manual de la base de datos (eliminación de datos cuyo SMILES no se puede obtener y de duplicados, corrección del SMILES de algunos compuestos,  y se ha escogido solo una $\\lambda_{max}$ para aquellos que tenian más de uno). El siguente código ha sido adaptado de GreenMan et al. "
   ]
  },
  {
   "cell_type": "code",
   "execution_count": 19,
   "id": "abe5cc71-3972-4a64-801e-de078a6b9270",
   "metadata": {},
   "outputs": [
    {
     "name": "stdout",
     "output_type": "stream",
     "text": [
      "Calculating ChemFluor FSD molecule fingerprints...\n",
      "Calculating solvent Morgan fingerprints...\n",
      "Merging with Minnesota solvent descriptors...\n",
      "Merging with ChemFluor CGSD solvent descriptors...\n"
     ]
    },
    {
     "name": "stderr",
     "output_type": "stream",
     "text": [
      "/home/xavi/Escritorio/midirectorio/utils.py:72: PerformanceWarning: DataFrame is highly fragmented.  This is usually the result of calling `frame.insert` many times, which has poor performance.  Consider using pd.concat instead.  To get a de-fragmented frame, use `newframe = frame.copy()`\n",
      "  unique_df[col_name+str(i+1)] = np.nan\n"
     ]
    }
   ],
   "source": [
    "df_val_final = pd.read_csv('bd_validacion_final.csv')\n",
    "\n",
    "# ChemFluor FSD Molecule Fingerprint\n",
    "print(\"Calculating ChemFluor FSD molecule fingerprints...\")\n",
    "df_val_final, ecdkex_features_names = get_padel_descriptors(df_val_final, descriptor_types='chemfluor')\n",
    "\n",
    "# Solvent Morgan Fingerprints\n",
    "print(\"Calculating solvent Morgan fingerprints...\")\n",
    "df_val_final, solvent_fp_cols = get_morgan_fingerprints(df_val_final, mol_or_solv='solvents', nbits=256)\n",
    "\n",
    "# Minnesota Solvent Descriptors\n",
    "print(\"Merging with Minnesota solvent descriptors...\")\n",
    "mn_solvent_db = pd.read_csv('data_solvents/mn_solvent_db.csv')\n",
    "minnesota_desc_cols = [x for x in mn_solvent_db.columns if x!='solvent']\n",
    "df_val_final = df_val_final.merge(mn_solvent_db, how='left')\n",
    "\n",
    "# ChemFluor CGSD Solvent Descriptors\n",
    "print(\"Merging with ChemFluor CGSD solvent descriptors...\")\n",
    "chemfluor_solvent_db = pd.read_csv('data_solvents/chemfluor_cgsd_solvent_db.csv')\n",
    "chemfluor_solv_desc_cols = [x for x in chemfluor_solvent_db.columns if x!='solvent']\n",
    "df_val_final = df_val_final.merge(chemfluor_solvent_db, how='left')\n",
    "\n",
    "\n",
    "# Eliminación de NaN y normalizado de las features \n",
    "df_val_final.dropna()\n",
    "float_columns = df_val_final.select_dtypes(include=['float64']).columns.drop('peakwavs_max', errors='ignore')\n",
    "scaler = StandardScaler(with_mean = True , with_std = True) \n",
    "df_val_final[float_columns] = scaler.fit_transform(df_val_final[float_columns])\n",
    "\n",
    "df_val_final.to_csv('val_final_all_features.csv', index=False)\n",
    "\n",
    "# Export Feature Name Lists to JSON\n",
    "feature_names_dict = {'ecdkex': ecdkex_features_names, \n",
    "                      'sfp': solvent_fp_cols,\n",
    "                      'minnesota': minnesota_desc_cols,  \n",
    "                      'cgsd': chemfluor_solv_desc_cols}\n",
    "\n",
    "feature_names_file = \"feature_names.json\"\n",
    "\n",
    "with open(feature_names_file, \"w\") as f:\n",
    "    f.write(json.dumps(feature_names_dict, indent=4, sort_keys=True))"
   ]
  },
  {
   "cell_type": "markdown",
   "id": "35bfd439-20c0-4d8a-9e12-139681325612",
   "metadata": {},
   "source": [
    "# Base de datos para predicción en chemprop"
   ]
  },
  {
   "cell_type": "code",
   "execution_count": 4,
   "id": "802ddcc3-c07d-40c0-acf1-d40c3d8f16c6",
   "metadata": {},
   "outputs": [],
   "source": [
    "data = pd.read_csv('scaled_df.csv')\n",
    "data['combined_smiles'] = data['smiles'] + '.' + data['solvent']\n",
    "data = data[['combined_smiles', 'peakwavs_max']]\n",
    "data.to_csv('chemprop_data_train.csv', index=False)\n",
    "\n",
    "data = pd.read_csv('bd_validacion_final.csv')\n",
    "data['combined_smiles'] = data['smiles'] + '.' + data['solvent']\n",
    "data = data[['combined_smiles', 'peakwavs_max']]\n",
    "data.to_csv('chemprop_data_val.csv', index=False)\n"
   ]
  }
 ],
 "metadata": {
  "kernelspec": {
   "display_name": "Python [conda env:environment]",
   "language": "python",
   "name": "conda-env-environment-py"
  },
  "language_info": {
   "codemirror_mode": {
    "name": "ipython",
    "version": 3
   },
   "file_extension": ".py",
   "mimetype": "text/x-python",
   "name": "python",
   "nbconvert_exporter": "python",
   "pygments_lexer": "ipython3",
   "version": "3.7.10"
  }
 },
 "nbformat": 4,
 "nbformat_minor": 5
}
