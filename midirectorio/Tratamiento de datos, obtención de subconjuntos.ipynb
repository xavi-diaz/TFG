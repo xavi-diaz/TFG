{
 "cells": [
  {
   "cell_type": "markdown",
   "id": "f21bc2ec",
   "metadata": {
    "slideshow": {
     "slide_type": "-"
    }
   },
   "source": [
    "# Tratamiento de datos, obtención subconjuntos"
   ]
  },
  {
   "cell_type": "markdown",
   "id": "a2adc522",
   "metadata": {},
   "source": [
    "### Importaciones y funciones"
   ]
  },
  {
   "cell_type": "code",
   "execution_count": 1,
   "id": "6785f379",
   "metadata": {},
   "outputs": [],
   "source": [
    "import numpy as np\n",
    "import pandas as pd\n",
    "import logging\n",
    "import os\n",
    "import json\n",
    "import subprocess\n",
    "from pathlib import Path\n",
    "import matplotlib.pyplot as plt\n",
    "\n",
    "\n",
    "from sklearn.metrics import mean_absolute_error, mean_squared_error, r2_score\n",
    "from sklearn.model_selection import train_test_split\n",
    "from sklearn.model_selection import GroupShuffleSplit\n",
    "from sklearn.preprocessing import StandardScaler\n",
    "\n",
    "from rdkit.Chem import AllChem as Chem\n",
    "from rdkit.DataStructs import ConvertToNumpyArray\n",
    "from rdkit.Chem import Descriptors\n",
    "\n",
    "from padelpy import padeldescriptor \n",
    "\n",
    "from scaffold_splits import scaffold_split \n",
    "\n",
    "from utils import * #Adaptado de from https://github.com/chemprop/chemprop/blob/master/chemprop/data/scaffold.py\n"
   ]
  },
  {
   "cell_type": "markdown",
   "id": "2933f388",
   "metadata": {},
   "source": [
    "## Tratamiento de los datos\n",
    "\n",
    "En primer lugar se comprueba que no haya datos que carezcan de sentido. Para ello se comprueba si existen datos con longitud de onda menores de 170nm o mayores de 1100nm. Se encuentran 4 instancias donde $ \\lambda_{max} = 0$ nm , todas ellas corresponden a la misma base de datos orginal. Se eliminan y no se usan en adelante. Existe un valor en el IR que se elimina, no por su $ \\lambda_{max}$, si no,  por contener no contener valores numéricos (NaN).\n",
    "\n",
    "Para poder calcular la distancia, los floats deben normalizarse pues las fingerprints consisten de datos binarios, uso la función StandardScaler. Si no se estandarizasen los datos, parametros como homo, lumo, o energías de transición tendrían demasiado peso frente a las fingerprints."
   ]
  },
  {
   "cell_type": "code",
   "execution_count": 3,
   "id": "ad9a295d-bf77-4982-8162-afd91453a372",
   "metadata": {},
   "outputs": [
    {
     "name": "stdout",
     "output_type": "stream",
     "text": [
      "Matching rows:\n",
      "                                                smiles   solvent  \\\n",
      "21748    Oc1ccccc1CNCc1ccccc1OCCCOc1ccccc1CNCc1ccccc1O  CN(C)C=O   \n",
      "21782  Oc1ccccc1C=NCc1ccccc1OCCCOc1ccccc1CN=Cc1ccccc1O  CN(C)C=O   \n",
      "21817                                             P[W]  CN(C)C=O   \n",
      "23249        CCN(CC)c1ccc2cc(-c3nc4ccccc4s3)c(=O)oc2c1      CC#N   \n",
      "23849                                        OC1CCCCC1      CC#N   \n",
      "\n",
      "       peakwavs_max source      homo      lumo  wb97_vert1  wb97_vert2  \\\n",
      "21748           0.0   cdex -7.757884  1.401495       5.017       5.104   \n",
      "21782           0.0   cdex -7.952908  0.081716       4.345       4.442   \n",
      "21817        1150.0   cdex       NaN       NaN         NaN         NaN   \n",
      "23249           0.0   cdex -7.531894 -0.635930       3.542       4.513   \n",
      "23849           0.0   cdex -9.881434  2.252177       7.410       8.272   \n",
      "\n",
      "       wb97_vert3  wb97_vert4  ...  alpha  beta  gamma  phi**2  psi**2  \\\n",
      "21748       5.122       5.206  ...   0.00  0.74  49.56     0.0     0.0   \n",
      "21782       4.858       4.879  ...   0.00  0.74  49.56     0.0     0.0   \n",
      "21817         NaN         NaN  ...   0.00  0.74  49.56     0.0     0.0   \n",
      "23249       4.613       4.888  ...   0.07  0.32  41.25     0.0     0.0   \n",
      "23849       8.604       8.887  ...   0.07  0.32  41.25     0.0     0.0   \n",
      "\n",
      "       ET(30) (kcal mol-1)     SP    SdP     SA     SB  \n",
      "21748                 43.2  0.759  0.977  0.031  0.613  \n",
      "21782                 43.2  0.759  0.977  0.031  0.613  \n",
      "21817                 43.2  0.759  0.977  0.031  0.613  \n",
      "23249                 45.6  0.645  0.974  0.044  0.286  \n",
      "23849                 45.6  0.645  0.974  0.044  0.286  \n",
      "\n",
      "[5 rows x 3033 columns]\n"
     ]
    }
   ],
   "source": [
    "df= pd.read_csv('uvvis/data_processed/master_df_all_features.csv')\n",
    "matching_rows = df[(df['peakwavs_max'] < 160) | (df['peakwavs_max'] > 1100)]\n",
    "\n",
    "print(\"Matching rows:\")\n",
    "print(matching_rows)"
   ]
  },
  {
   "cell_type": "code",
   "execution_count": 5,
   "id": "13edbf0d",
   "metadata": {
    "editable": true,
    "slideshow": {
     "slide_type": ""
    },
    "tags": []
   },
   "outputs": [
    {
     "name": "stdout",
     "output_type": "stream",
     "text": [
      "Archivo guardado en: scaled_df.csv\n"
     ]
    }
   ],
   "source": [
    "df = pd.read_csv('master_df_all_features.csv')\n",
    "df = df.drop([21748, 21782, 23249, 23849]) #elimina valores de peakwavs_max =0 \n",
    "df = df.dropna()\n",
    "# Seleccionar solo las columnas de tipo float excluyendo la lambdamax\n",
    "float_columns = df.select_dtypes(include=['float64']).columns.drop('peakwavs_max', errors='ignore')\n",
    "\n",
    "# Aplicar el normalizado solo a las columnas de tipo float\n",
    "scaler = StandardScaler(with_mean = True , with_std = True) \n",
    "df[float_columns] = scaler.fit_transform(df[float_columns])\n",
    "\n",
    "\n",
    "# Guardar el nuevo archivo CSV\n",
    "output_path = 'scaled_df.csv'\n",
    "df.to_csv(output_path, index=False)\n",
    "\n",
    "print(f\"Archivo guardado en: {output_path}\")"
   ]
  },
  {
   "cell_type": "markdown",
   "id": "508b03f1-1da3-4994-bf54-830e959de753",
   "metadata": {},
   "source": [
    "### Histograma count / nm"
   ]
  },
  {
   "cell_type": "code",
   "execution_count": 27,
   "id": "f881603c-8989-4342-9011-237996df8c14",
   "metadata": {},
   "outputs": [
    {
     "name": "stderr",
     "output_type": "stream",
     "text": [
      "/home/xavi/Escritorio/midirectorio/utils.py:114: PerformanceWarning: DataFrame is highly fragmented.  This is usually the result of calling `frame.insert` many times, which has poor performance.  Consider using pd.concat instead.  To get a de-fragmented frame, use `newframe = frame.copy()`\n",
      "  df = df.groupby(['smiles','solvent']).agg(agg_dict).reset_index()\n"
     ]
    },
    {
     "data": {
      "image/png": "[encoded data removed]",
      "text/plain": [
       "<Figure size 432x288 with 1 Axes>"
      ]
     },
     "metadata": {
      "needs_background": "light"
     },
     "output_type": "display_data"
    }
   ],
   "source": [
    "df = pd.read_csv('scaled_df.csv')\n",
    "no_duplicates_df = handle_duplicates(df, cutoff=5)\n",
    "df = no_duplicates_df.copy()\n",
    "\n",
    "no_duplicates_df['peakwavs_max'].hist(bins=100, color = 'k')\n",
    "plt.xlim(0,1100)\n",
    "plt.xlabel('Pico de absorbancia / nm', fontsize=12, color='k')\n",
    "plt.ylabel('Recuento')\n",
    "plt.grid(which= 'minor', axis = 'y')\n",
    "plt.grid(False, axis='x')\n",
    "\n",
    "plot_name = f\"figuras/hist_picos.pdf\"\n",
    "plt.savefig(plot_name, dpi=600, bbox_inches='tight')"
   ]
  },
  {
   "cell_type": "code",
   "execution_count": 31,
   "id": "3a21a3af-952f-4f78-8739-3d58500ad81d",
   "metadata": {},
   "outputs": [
    {
     "name": "stdout",
     "output_type": "stream",
     "text": [
      "(25742, 3033)\n",
      "162.0\n",
      "1026.0\n"
     ]
    }
   ],
   "source": [
    "df = pd.read_csv('scaled_df.csv')\n",
    "print(df.shape)\n",
    "print(df['peakwavs_max'].min())\n",
    "print(df['peakwavs_max'].max())"
   ]
  },
  {
   "cell_type": "markdown",
   "id": "db82c745",
   "metadata": {},
   "source": [
    "# División por scaffold en 5 sets para validación cruzada\n",
    "Como moléculas cuyo esqueleto o andamio sea el mismo seguramente tengan propiedades parecidas, se dividen para que ninguna con el mismo esqueleto esté en grupos distintos. Esto genera una única partición. "
   ]
  },
  {
   "cell_type": "markdown",
   "id": "9c2c4916-1662-4284-883e-18ef95c501b8",
   "metadata": {},
   "source": [
    "## Obtención de 5 sets de test\n",
    "**Donde cada uno representa un 20% del total de la base de datos.**\n",
    "\n",
    "OJO: el quinto set de test corresponde a train_4.csv"
   ]
  },
  {
   "cell_type": "code",
   "execution_count": 3,
   "id": "4ec35562-6cbd-4402-8024-7522b85937d7",
   "metadata": {},
   "outputs": [
    {
     "name": "stderr",
     "output_type": "stream",
     "text": [
      "100%|██████████| 25742/25742 [00:31<00:00, 826.49it/s] \n"
     ]
    },
    {
     "name": "stdout",
     "output_type": "stream",
     "text": [
      "Particion número: 1 completada.\n"
     ]
    },
    {
     "name": "stderr",
     "output_type": "stream",
     "text": [
      "100%|██████████| 20593/20593 [00:23<00:00, 874.07it/s] \n"
     ]
    },
    {
     "name": "stdout",
     "output_type": "stream",
     "text": [
      "Particion número: 2 completada.\n"
     ]
    },
    {
     "name": "stderr",
     "output_type": "stream",
     "text": [
      "100%|██████████| 15444/15444 [00:17<00:00, 868.98it/s] \n"
     ]
    },
    {
     "name": "stdout",
     "output_type": "stream",
     "text": [
      "Particion número: 3 completada.\n"
     ]
    },
    {
     "name": "stderr",
     "output_type": "stream",
     "text": [
      "100%|██████████| 10296/10296 [00:13<00:00, 763.70it/s]\n"
     ]
    },
    {
     "name": "stdout",
     "output_type": "stream",
     "text": [
      "Particion número: 4 completada.\n"
     ]
    }
   ],
   "source": [
    "scaled_df = pd.read_csv('scaled_df.csv')\n",
    "\n",
    "target = 'peakwavs_max'\n",
    "features = [col for col in scaled_df.columns if col not in ['smiles', 'solvent', 'source', target]]\n",
    "\n",
    "mi_dir = '/home/xavi/Escritorio/midirectorio/'\n",
    "\n",
    "\n",
    "numerador = 4\n",
    "particion = 1\n",
    "\n",
    "while numerador >= 1:\n",
    "    porcentaje_train = numerador/(numerador+1)\n",
    "    porcentaje_test = 1 - porcentaje_train\n",
    "\n",
    "    if particion ==1:\n",
    "    \n",
    "        data_split_and_write(scaled_df,\n",
    "                             sizes = (porcentaje_train, porcentaje_test),\n",
    "                             feature_names  = features,\n",
    "                             target_names = ['peakwavs_max'], \n",
    "                             solvation = True, \n",
    "                             split_type = 'scaffold', \n",
    "                             scale_targets = False, \n",
    "                             write_files = True, \n",
    "                             random_seed = 36)\n",
    "    else:\n",
    "        df = pd.read_csv(f'CV/particiones/train_{particion - 1}.csv')\n",
    "        data_split_and_write(df,\n",
    "                             sizes = (porcentaje_train, porcentaje_test),\n",
    "                             feature_names  = features,\n",
    "                             target_names = ['peakwavs_max'], \n",
    "                             solvation = True, \n",
    "                             split_type = 'scaffold', \n",
    "                             scale_targets = False, \n",
    "                             write_files = True, \n",
    "                             random_seed = 36)\n",
    "    \n",
    "    scaffolds = {}  # Diccionario para almacenar los DataFrames\n",
    "    \n",
    "    for archivo in ['train', 'test']:\n",
    "        feat = pd.read_csv(f'CV/features_{archivo}.csv')\n",
    "        target = pd.read_csv(f'CV/smiles_target_{archivo}.csv')\n",
    "    \n",
    "        scaffolds[archivo] = feat.join(target)\n",
    "        scaffolds[archivo].to_csv(f'{mi_dir}CV/particiones/{archivo}_{particion}.csv', index=False)\n",
    "        \n",
    "        os.remove(f'CV/features_{archivo}.csv')      #### ESTO ELIMINA LOS ARCHIVOS ORGINALES ###\n",
    "        os.remove(f'CV/smiles_target_{archivo}.csv') #### ESTO ELIMINA LOS ARCHIVOS ORGINALES ###\n",
    "    print(f'Particion número: {particion} completada.')\n",
    "    numerador = numerador -1\n",
    "    particion = particion +1"
   ]
  },
  {
   "cell_type": "markdown",
   "id": "44aec4fe-057d-4547-8cbf-77cd52682bc6",
   "metadata": {},
   "source": [
    "## Obtención de 5 sets train\n",
    "**Donde cada uno representa el 80% del total de la base de datos.** \n",
    "\n",
    "El primer set de train (`train_1.csv`) obtenido por el código se puede usar directamente. El resto se consiguen de manera trivial uniendo los archivos necesarios. Se renombra de manera manual `train_4.csv` a `test_5.csv` antes de ejecutar la célula de abajo. Después de ejecutarla, mover los test y el  `train_1.csv`  a el directorio `CV/`"
   ]
  },
  {
   "cell_type": "code",
   "execution_count": 5,
   "id": "955f8d20-271b-4df7-980d-8339f8ba89f4",
   "metadata": {},
   "outputs": [],
   "source": [
    "test_1 = pd.read_csv('CV/particiones/test_1.csv')\n",
    "test_2 = pd.read_csv('CV/particiones/test_2.csv')\n",
    "test_3 = pd.read_csv('CV/particiones/test_3.csv')\n",
    "test_4 = pd.read_csv('CV/particiones/test_4.csv')\n",
    "test_5 = pd.read_csv('CV/particiones/test_5.csv')\n",
    "\n",
    "train_2_original = pd.read_csv('CV/particiones/train_2.csv')\n",
    "train_3_original = pd.read_csv('CV/particiones/train_3.csv')\n",
    "\n",
    "train_2 = pd.concat([test_1, train_2_original])            #Ver esquema libreta. \n",
    "\n",
    "train_3 = pd.concat([test_1, test_2, train_3_original])    #Ver esquema libreta. \n",
    "\n",
    "train_4 =pd.concat([test_1, test_2, test_3, test_5])\n",
    "\n",
    "train_5 =pd.concat([test_1, test_2, test_3, test_4])\n",
    "\n",
    "\n",
    "train_2.to_csv('CV/all features/train_2.csv', index=False)\n",
    "train_3.to_csv('CV/all features/train_3.csv', index=False)\n",
    "train_4.to_csv('CV/all features/train_4.csv', index=False)\n",
    "train_5.to_csv('CV/all features/train_5.csv', index=False)"
   ]
  }
 ],
 "metadata": {
  "kernelspec": {
   "display_name": "Python [conda env:environment]",
   "language": "python",
   "name": "conda-env-environment-py"
  },
  "language_info": {
   "codemirror_mode": {
    "name": "ipython",
    "version": 3
   },
   "file_extension": ".py",
   "mimetype": "text/x-python",
   "name": "python",
   "nbconvert_exporter": "python",
   "pygments_lexer": "ipython3",
   "version": "3.7.10"
  }
 },
 "nbformat": 4,
 "nbformat_minor": 5
}
