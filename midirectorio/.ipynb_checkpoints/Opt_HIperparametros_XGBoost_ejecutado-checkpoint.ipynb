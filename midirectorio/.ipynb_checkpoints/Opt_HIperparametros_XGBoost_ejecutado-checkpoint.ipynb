{
 "cells": [
  {
   "cell_type": "markdown",
   "id": "0fbb16e6-6481-42d2-8923-427b1ab1a44d",
   "metadata": {
    "id": "0fbb16e6-6481-42d2-8923-427b1ab1a44d"
   },
   "source": [
    "# Optimización hiperparámetors XGBoost"
   ]
  },
  {
   "cell_type": "code",
   "execution_count": 6,
   "id": "3d24cdec-a35a-40b1-83df-f56dafc35976",
   "metadata": {
    "id": "3d24cdec-a35a-40b1-83df-f56dafc35976"
   },
   "outputs": [],
   "source": [
    "from xgboost import XGBRegressor\n",
    "from sklearn.metrics import mean_absolute_error\n",
    "from sklearn.model_selection import GridSearchCV, train_test_split\n",
    "from sklearn.datasets import load_breast_cancer\n",
    "from sklearn.metrics import accuracy_score\n",
    "import pandas as pd\n",
    "import numpy  as np"
   ]
  },
  {
   "cell_type": "code",
   "execution_count": 7,
   "id": "35350f4d-0379-4f79-b11a-211c2a52b31c",
   "metadata": {
    "id": "35350f4d-0379-4f79-b11a-211c2a52b31c"
   },
   "outputs": [],
   "source": [
    "mi_dir = '/home/xavi/Escritorio/midirectorio/'\n",
    "# Cargar un subconjunto del train\n",
    "df = pd.read_csv(f'{mi_dir}DATA/train_scaffold.csv')\n",
    "sub_train = df.sample(frac =0.3, random_state=42)# selección de variables objetivos y separación de los datos\n",
    "\n",
    "#Identificación de variables\n",
    "target = 'peakwavs_max'\n",
    "features = [col for col in df.columns if col not in ['smiles', 'solvent', 'source', 'scaffold', target]]\n",
    "\n",
    "# Dividir en conjunto de entrenamiento y prueba\n",
    "x = sub_train[features]\n",
    "y = sub_train[target]\n",
    "x_train, x_test, y_train, y_test = train_test_split(x, y, test_size=0.2, random_state=30)\n"
   ]
  },
  {
   "cell_type": "code",
   "execution_count": null,
   "id": "db9dc444-24c3-4ca7-86d5-b1a4e90d3b7b",
   "metadata": {
    "colab": {
     "base_uri": "https://localhost:8080/",
     "height": 760
    },
    "id": "db9dc444-24c3-4ca7-86d5-b1a4e90d3b7b",
    "outputId": "8f5aee3d-65ed-40bf-e592-3a8ba3221166"
   },
   "outputs": [],
   "source": [
    "# 2. Definir el espacio de búsqueda de hiperparámetros\n",
    "param_grid = {\n",
    "    'max_depth': [7, 9, 10, 11],  # Profundidad máxima del árbol\n",
    "    'learning_rate': [0.01, 0.1],  # Tasa de aprendizaje\n",
    "    'n_estimators': [200, 400, 500],  # Número de árboles\n",
    "    'subsample': [0.8, 1.0],  # Submuestra de datos para cada árbol\n",
    "    'colsample_bytree': [1.0],  # Submuestra de características por árbol\n",
    "    'gamma': [0, 0.1],  # Reducción mínima de pérdida para hacer una partición\n",
    "}\n",
    "\n",
    "# 3. Configurar Grid Search\n",
    "xgb_model = XGBRegressor(tree_method='hist', objective='reg:squarederror', random_state=42)\n",
    "\n",
    "grid_search = GridSearchCV(estimator=xgb_model, \n",
    "                           param_grid=param_grid,\n",
    "                           scoring='neg_mean_squared_error', \n",
    "                           cv=3, verbose=5, \n",
    "                           n_jobs=-1)\n",
    "\n",
    "# 4. Entrenar el modelo con Grid Search\n",
    "grid_search.fit(x_train, y_train)"
   ]
  },
  {
   "cell_type": "code",
   "execution_count": null,
   "id": "4c005843-b849-42df-9524-e85bcddd6c8b",
   "metadata": {
    "colab": {
     "base_uri": "https://localhost:8080/"
    },
    "id": "4c005843-b849-42df-9524-e85bcddd6c8b",
    "outputId": "dc902cac-75d6-4e2b-e2c1-f4e0fa2d652b"
   },
   "outputs": [],
   "source": [
    "# 5. Mostrar los mejores hiperparámetros encontrados\n",
    "print(\"Mejores hiperparámetros encontrados:\")\n",
    "print(grid_search.best_params_)\n",
    "\n",
    "# 6. Evaluar el modelo con los mejores hiperparámetros\n",
    "best_model = grid_search.best_estimator_\n",
    "y_pred = best_model.predict(x_test)\n",
    "mae = mean_absolute_error(y_test, y_pred)\n",
    "print(f\"Error Absoluto Medio (MAE) en el conjunto de prueba: {mae:.4f}\")"
   ]
  },
  {
   "cell_type": "code",
   "execution_count": null,
   "id": "5e95d9df-eda6-4806-ad52-277ff9022c05",
   "metadata": {},
   "outputs": [],
   "source": []
  }
 ],
 "metadata": {
  "colab": {
   "provenance": []
  },
  "kernelspec": {
   "display_name": "Python [conda env:base] *",
   "language": "python",
   "name": "conda-base-py"
  },
  "language_info": {
   "codemirror_mode": {
    "name": "ipython",
    "version": 3
   },
   "file_extension": ".py",
   "mimetype": "text/x-python",
   "name": "python",
   "nbconvert_exporter": "python",
   "pygments_lexer": "ipython3",
   "version": "3.12.7"
  }
 },
 "nbformat": 4,
 "nbformat_minor": 5
}
